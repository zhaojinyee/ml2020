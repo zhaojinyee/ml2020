{
 "cells": [
  {
   "cell_type": "code",
   "execution_count": 1,
   "id": "028b2064-a142-48c8-bb35-fdeee7779bca",
   "metadata": {},
   "outputs": [],
   "source": [
    "#准备资料\n",
    "import numpy as np\n",
    "import matplotlib.pyplot as plt\n",
    "x_train_data='/home/zjy/ml hw2/data/X_train'\n",
    "y_train_data='/home/zjy/ml hw2/data/Y_train'\n",
    "x_test_data='/home/zjy/ml hw2/data/X_test'\n",
    "output_data='/home/zjy/ml hw2/data/generative_output.csv'\n",
    "np.random.seed(0) #使后面生成的随机数相同\n",
    "\n",
    "with open(x_train_data) as f1:\n",
    "    next(f1) #跳过第一行，从第二行开始读，第一行是features名称\n",
    "    X_train=np.array([line.strip('\\n').split(',')[1:] for line in f1],dtype=float)\n",
    "    #strip('\\n')表示删掉每行数据中的换行符，split(',')以每行中逗号作数据分隔，每行从下标为1的数据读起，因下标为0的是id号\n",
    "    \n",
    "with open(y_train_data) as f2:\n",
    "    next(f2)\n",
    "    Y_train=np.array([line.strip('\\n').split(',')[1] for line in f2],dtype=float) #只读下标1列，即表示类别0还是1的列\n",
    "    \n",
    "with open(x_test_data) as f3:\n",
    "    next(f3)\n",
    "    X_test=np.array([line.strip('\\n').split(',')[1:] for line in f3],dtype=float)\n",
    "\n",
    "def normalize(X,train=True,column_id=None,X_mean=None,X_std=None):\n",
    "#该函数用于对矩阵X做正则化操作，train为true时代表处理的是training data，为false时是testing data，由于对X_test的正则化也是依靠X_test的mean和\n",
    "#std，所以为false时直接使用之前算得的mean，std。column_id是索引每个要正则化的列，是一个数，若为none返回一个数，不为none表示求所有列的mean和std，\n",
    "#并返回1*n的矩阵\n",
    "    eps=1e-10 #防止分母为0\n",
    "    if column_id==None:\n",
    "        column_id=np.arange(X.shape[1])\n",
    "    if train== True:\n",
    "        X_mean=np.mean(X[:,column_id],0).reshape(1,-1)\n",
    "        X_std=np.std(X[:, column_id],0).reshape(1,-1)\n",
    "    X[:,column_id]=(X[:,column_id]-X_mean)/(X_std+eps)\n",
    "    return X,X_mean,X_std"
   ]
  },
  {
   "cell_type": "code",
   "execution_count": 2,
   "id": "87ecbed1-8d4c-4247-85c1-8a64ed3fa3f1",
   "metadata": {},
   "outputs": [],
   "source": [
    "#对X_train,X_test进行正则化\n",
    "X_train,X_mean,X_std=normalize(X_train,train=True)\n",
    "X_test,_,_=normalize(X_test,train=False,column_id=None,X_mean=X_mean,X_std=X_std) #单下划线作为临时变量名\n",
    "\n",
    "#划分两个正态分布集，X_train_0,X_train_1\n",
    "X_train_0=np.array([x for x,y in zip(X_train,Y_train) if y==0])\n",
    "X_train_1=np.array([x for x,y in zip(X_train,Y_train) if y==1])\n",
    "\n",
    "#求出两对应均值矩阵\n",
    "mean_0=np.mean(X_train_0,axis=0)\n",
    "mean_1=np.mean(X_train_1,axis=0)\n",
    "\n",
    "#初始化covariance matrix\n",
    "data_dim=X_train.shape[1]\n",
    "cov_0=np.zeros((data_dim,data_dim))\n",
    "cov_1=np.zeros((data_dim,data_dim))\n",
    "\n",
    "#计算covariance matrix\n",
    "for x in X_train_0:\n",
    "    cov_0+=np.dot(np.transpose([x-mean_0]),[x-mean_0])/X_train_0.shape[0]\n",
    "for x in X_train_1:\n",
    "    cov_1+=np.dot(np.transpose([x-mean_1]),[x-mean_1])/X_train_1.shape[0]\n",
    "    \n",
    "#使两个正态分布有相同的covariance matrix\n",
    "cov=(cov_0*X_train_0.shape[0]+cov_1*X_train_1.shape[0])/(X_train_0.shape[0]+X_train_1.shape[0])"
   ]
  },
  {
   "cell_type": "code",
   "execution_count": 3,
   "id": "401ce5bb-c92a-4987-9fbf-e938538425a5",
   "metadata": {},
   "outputs": [],
   "source": [
    "#通过svd分解求矩阵的逆\n",
    "u,s,v=np.linalg.svd(cov,full_matrices=False)\n",
    "inv=np.matmul(v.T*1/s,u.T)\n",
    "\n",
    "#计算w和b\n",
    "w=np.dot(inv,mean_0-mean_1)\n",
    "b=(-0.5)*np.dot(mean_0,np.dot(inv,mean_0))+0.5*np.dot(mean_1,np.dot(inv,mean_1))+np.log(float(X_train_0.shape[0])/X_train_1.shape[0])"
   ]
  },
  {
   "cell_type": "code",
   "execution_count": 4,
   "id": "570126ef-31e7-46dd-8718-d444cced96b6",
   "metadata": {},
   "outputs": [
    {
     "name": "stdout",
     "output_type": "stream",
     "text": [
      "Training accuracy:0.8645311117664406\n"
     ]
    },
    {
     "name": "stderr",
     "output_type": "stream",
     "text": [
      "/tmp/ipykernel_10705/980785793.py:7: DeprecationWarning: `np.int` is a deprecated alias for the builtin `int`. To silence this warning, use `int` by itself. Doing this will not modify any behavior and is safe. When replacing `np.int`, you may wish to use e.g. `np.int64` or `np.int32` to specify the precision. If you wish to review your current use, check the release note link for additional information.\n",
      "Deprecated in NumPy 1.20; for more details and guidance: https://numpy.org/devdocs/release/1.20.0-notes.html#deprecations\n",
      "  return np.round(f(X,w,b)).astype(np.int) #对预测结果取整数\n"
     ]
    }
   ],
   "source": [
    "def f(X,w,b):\n",
    "#定义通过sigmoid函数得到预测结果并取整\n",
    "    z=np.matmul(X,w)+b #matmul矩阵相乘\n",
    "    sigmoid=np.clip(1/(1.0+np.exp(-z)),1e-10,1-(1e-10)) #clip是将大于1的数变成1，将小于0的数变成0\n",
    "    return sigmoid\n",
    "def predict(X,w,b):\n",
    "    return np.round(f(X,w,b)).astype(np.int) #对预测结果取整数\n",
    "\n",
    "def accuracy(Y_pred,Y_label):\n",
    "#算predict值和label值的准确率\n",
    "    return 1-np.mean(np.abs(Y_pred-Y_label)) #值越接近1预测越准确\n",
    "\n",
    "#计算training set上的accuracy\n",
    "Y_train_pred=1-predict(X_train,w,b)\n",
    "print('Training accuracy:{}'.format(accuracy(Y_train_pred,Y_train)))"
   ]
  },
  {
   "cell_type": "code",
   "execution_count": 5,
   "id": "9b40266a-c2c2-4924-ad7c-553647c22737",
   "metadata": {},
   "outputs": [
    {
     "name": "stderr",
     "output_type": "stream",
     "text": [
      "/tmp/ipykernel_10705/980785793.py:7: DeprecationWarning: `np.int` is a deprecated alias for the builtin `int`. To silence this warning, use `int` by itself. Doing this will not modify any behavior and is safe. When replacing `np.int`, you may wish to use e.g. `np.int64` or `np.int32` to specify the precision. If you wish to review your current use, check the release note link for additional information.\n",
      "Deprecated in NumPy 1.20; for more details and guidance: https://numpy.org/devdocs/release/1.20.0-notes.html#deprecations\n",
      "  return np.round(f(X,w,b)).astype(np.int) #对预测结果取整数\n"
     ]
    }
   ],
   "source": [
    "#将结果写入csv文件\n",
    "pred=predict(X_test,w,b)\n",
    "with open(output_data,'w')as f:\n",
    "    f.write('id,label\\n')\n",
    "    for i,label in enumerate(pred): #enumerate能同时遍历出pred的索引和元素\n",
    "        f.write('{},{}\\n'.format(i,label))"
   ]
  },
  {
   "cell_type": "code",
   "execution_count": null,
   "id": "6b23d6e1-70b6-45e6-9dc3-a35350e62365",
   "metadata": {},
   "outputs": [],
   "source": []
  }
 ],
 "metadata": {
  "kernelspec": {
   "display_name": "Python 3 (ipykernel)",
   "language": "python",
   "name": "python3"
  },
  "language_info": {
   "codemirror_mode": {
    "name": "ipython",
    "version": 3
   },
   "file_extension": ".py",
   "mimetype": "text/x-python",
   "name": "python",
   "nbconvert_exporter": "python",
   "pygments_lexer": "ipython3",
   "version": "3.8.10"
  }
 },
 "nbformat": 4,
 "nbformat_minor": 5
}
